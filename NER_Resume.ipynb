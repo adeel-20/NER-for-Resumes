{
  "cells": [
    {
      "cell_type": "code",
      "execution_count": null,
      "metadata": {
        "id": "gvgsn9TfPHMA"
      },
      "outputs": [],
      "source": [
        "!pip install -U spacy -q"
      ]
    },
    {
      "cell_type": "code",
      "execution_count": null,
      "metadata": {
        "colab": {
          "base_uri": "https://localhost:8080/"
        },
        "id": "t3Yq60SsPYOU",
        "outputId": "39113f04-7e8f-4dbf-c3e6-652841e11d39"
      },
      "outputs": [
        {
          "name": "stdout",
          "output_type": "stream",
          "text": [
            "\u001b[1m\n",
            "============================== Info about spaCy ==============================\u001b[0m\n",
            "\n",
            "spaCy version    3.3.0                         \n",
            "Location         /usr/local/lib/python3.7/dist-packages/spacy\n",
            "Platform         Linux-5.4.188+-x86_64-with-Ubuntu-18.04-bionic\n",
            "Python version   3.7.13                        \n",
            "Pipelines        en_core_web_sm (3.3.0)        \n",
            "\n"
          ]
        }
      ],
      "source": [
        "!python -m spacy info"
      ]
    },
    {
      "cell_type": "code",
      "execution_count": null,
      "metadata": {
        "id": "igVTLi8IPeGM"
      },
      "outputs": [],
      "source": [
        "import spacy\n",
        "from spacy.tokens import DocBin\n",
        "from tqdm import tqdm\n",
        "\n",
        "nlp = spacy.blank(\"en\") # load a new spacy model\n",
        "db = DocBin() # create a DocBin object"
      ]
    },
    {
      "cell_type": "code",
      "execution_count": null,
      "metadata": {
        "id": "NyT_0x_7PvZy"
      },
      "outputs": [],
      "source": [
        "import json #importing train data \n",
        "f = open('/content/drive/MyDrive/Annotated_Data_2.json')\n",
        "TRAIN_DATA = json.load(f)"
      ]
    },
    {
      "cell_type": "code",
      "execution_count": null,
      "metadata": {
        "colab": {
          "base_uri": "https://localhost:8080/"
        },
        "id": "Nc5LCNZLQR9n",
        "outputId": "ce53378c-557a-45e9-b24d-f483771294bf"
      },
      "outputs": [
        {
          "name": "stderr",
          "output_type": "stream",
          "text": [
            "100%|██████████| 49/49 [00:00<00:00, 81.07it/s]\n"
          ]
        }
      ],
      "source": [
        "for text, annot in tqdm(TRAIN_DATA['annotations']): #converting to docbin file for training purpose\n",
        "    doc = nlp.make_doc(text) \n",
        "    ents = []\n",
        "    for start, end, label in annot[\"entities\"]:\n",
        "        span = doc.char_span(start, end, label=label, alignment_mode=\"contract\")\n",
        "        if span is None:\n",
        "            print(\"Skipping entity\")\n",
        "        else:\n",
        "            ents.append(span)\n",
        "    doc.ents = ents \n",
        "    db.add(doc)\n",
        "\n",
        "db.to_disk(\"./training_data.spacy\") # save the docbin object"
      ]
    },
    {
      "cell_type": "code",
      "execution_count": null,
      "metadata": {
        "colab": {
          "base_uri": "https://localhost:8080/"
        },
        "id": "Qvt-ISNRQadx",
        "outputId": "0b7e038d-465e-48c2-d43c-b0d45116faa5"
      },
      "outputs": [
        {
          "name": "stdout",
          "output_type": "stream",
          "text": [
            "\u001b[38;5;3m⚠ To generate a more effective transformer-based config (GPU-only),\n",
            "install the spacy-transformers package and re-run this command. The config\n",
            "generated now does not use transformers.\u001b[0m\n",
            "\u001b[38;5;4mℹ Generated config template specific for your use case\u001b[0m\n",
            "- Language: en\n",
            "- Pipeline: ner\n",
            "- Optimize for: accuracy\n",
            "- Hardware: CPU\n",
            "- Transformer: None\n",
            "\u001b[38;5;2m✔ Auto-filled config with all values\u001b[0m\n",
            "\u001b[38;5;2m✔ Saved config\u001b[0m\n",
            "config.cfg\n",
            "You can now add your data and train your pipeline:\n",
            "python -m spacy train config.cfg --paths.train ./train.spacy --paths.dev ./dev.spacy\n"
          ]
        }
      ],
      "source": [
        "! python -m spacy init config config.cfg --lang en --pipeline ner --optimize accuracy #generating cofig file "
      ]
    },
    {
      "cell_type": "code",
      "execution_count": null,
      "metadata": {
        "colab": {
          "base_uri": "https://localhost:8080/"
        },
        "id": "5fjaIYSB6JWP",
        "outputId": "78640180-7233-4271-a359-3b96fb3cf1f5"
      },
      "outputs": [
        {
          "name": "stdout",
          "output_type": "stream",
          "text": [
            "Looking in indexes: https://pypi.org/simple, https://us-python.pkg.dev/colab-wheels/public/simple/\n",
            "Collecting en-core-web-lg==3.3.0\n",
            "  Downloading https://github.com/explosion/spacy-models/releases/download/en_core_web_lg-3.3.0/en_core_web_lg-3.3.0-py3-none-any.whl (400.7 MB)\n",
            "\u001b[K     |████████████████████████████████| 400.7 MB 5.3 kB/s \n",
            "\u001b[?25hRequirement already satisfied: spacy<3.4.0,>=3.3.0.dev0 in /usr/local/lib/python3.7/dist-packages (from en-core-web-lg==3.3.0) (3.3.0)\n",
            "Requirement already satisfied: srsly<3.0.0,>=2.4.3 in /usr/local/lib/python3.7/dist-packages (from spacy<3.4.0,>=3.3.0.dev0->en-core-web-lg==3.3.0) (2.4.3)\n",
            "Requirement already satisfied: cymem<2.1.0,>=2.0.2 in /usr/local/lib/python3.7/dist-packages (from spacy<3.4.0,>=3.3.0.dev0->en-core-web-lg==3.3.0) (2.0.6)\n",
            "Requirement already satisfied: setuptools in /usr/local/lib/python3.7/dist-packages (from spacy<3.4.0,>=3.3.0.dev0->en-core-web-lg==3.3.0) (57.4.0)\n",
            "Requirement already satisfied: packaging>=20.0 in /usr/local/lib/python3.7/dist-packages (from spacy<3.4.0,>=3.3.0.dev0->en-core-web-lg==3.3.0) (21.3)\n",
            "Requirement already satisfied: preshed<3.1.0,>=3.0.2 in /usr/local/lib/python3.7/dist-packages (from spacy<3.4.0,>=3.3.0.dev0->en-core-web-lg==3.3.0) (3.0.6)\n",
            "Requirement already satisfied: thinc<8.1.0,>=8.0.14 in /usr/local/lib/python3.7/dist-packages (from spacy<3.4.0,>=3.3.0.dev0->en-core-web-lg==3.3.0) (8.0.16)\n",
            "Requirement already satisfied: tqdm<5.0.0,>=4.38.0 in /usr/local/lib/python3.7/dist-packages (from spacy<3.4.0,>=3.3.0.dev0->en-core-web-lg==3.3.0) (4.64.0)\n",
            "Requirement already satisfied: jinja2 in /usr/local/lib/python3.7/dist-packages (from spacy<3.4.0,>=3.3.0.dev0->en-core-web-lg==3.3.0) (2.11.3)\n",
            "Requirement already satisfied: blis<0.8.0,>=0.4.0 in /usr/local/lib/python3.7/dist-packages (from spacy<3.4.0,>=3.3.0.dev0->en-core-web-lg==3.3.0) (0.4.1)\n",
            "Requirement already satisfied: wasabi<1.1.0,>=0.9.1 in /usr/local/lib/python3.7/dist-packages (from spacy<3.4.0,>=3.3.0.dev0->en-core-web-lg==3.3.0) (0.9.1)\n",
            "Requirement already satisfied: murmurhash<1.1.0,>=0.28.0 in /usr/local/lib/python3.7/dist-packages (from spacy<3.4.0,>=3.3.0.dev0->en-core-web-lg==3.3.0) (1.0.7)\n",
            "Requirement already satisfied: numpy>=1.15.0 in /usr/local/lib/python3.7/dist-packages (from spacy<3.4.0,>=3.3.0.dev0->en-core-web-lg==3.3.0) (1.21.6)\n",
            "Requirement already satisfied: langcodes<4.0.0,>=3.2.0 in /usr/local/lib/python3.7/dist-packages (from spacy<3.4.0,>=3.3.0.dev0->en-core-web-lg==3.3.0) (3.3.0)\n",
            "Requirement already satisfied: typing-extensions<4.0.0.0,>=3.7.4 in /usr/local/lib/python3.7/dist-packages (from spacy<3.4.0,>=3.3.0.dev0->en-core-web-lg==3.3.0) (3.10.0.2)\n",
            "Requirement already satisfied: pathy>=0.3.5 in /usr/local/lib/python3.7/dist-packages (from spacy<3.4.0,>=3.3.0.dev0->en-core-web-lg==3.3.0) (0.6.1)\n",
            "Requirement already satisfied: typer<0.5.0,>=0.3.0 in /usr/local/lib/python3.7/dist-packages (from spacy<3.4.0,>=3.3.0.dev0->en-core-web-lg==3.3.0) (0.4.1)\n",
            "Requirement already satisfied: catalogue<2.1.0,>=2.0.6 in /usr/local/lib/python3.7/dist-packages (from spacy<3.4.0,>=3.3.0.dev0->en-core-web-lg==3.3.0) (2.0.7)\n",
            "Requirement already satisfied: requests<3.0.0,>=2.13.0 in /usr/local/lib/python3.7/dist-packages (from spacy<3.4.0,>=3.3.0.dev0->en-core-web-lg==3.3.0) (2.23.0)\n",
            "Requirement already satisfied: spacy-legacy<3.1.0,>=3.0.9 in /usr/local/lib/python3.7/dist-packages (from spacy<3.4.0,>=3.3.0.dev0->en-core-web-lg==3.3.0) (3.0.9)\n",
            "Requirement already satisfied: pydantic!=1.8,!=1.8.1,<1.9.0,>=1.7.4 in /usr/local/lib/python3.7/dist-packages (from spacy<3.4.0,>=3.3.0.dev0->en-core-web-lg==3.3.0) (1.8.2)\n",
            "Requirement already satisfied: spacy-loggers<2.0.0,>=1.0.0 in /usr/local/lib/python3.7/dist-packages (from spacy<3.4.0,>=3.3.0.dev0->en-core-web-lg==3.3.0) (1.0.2)\n",
            "Requirement already satisfied: zipp>=0.5 in /usr/local/lib/python3.7/dist-packages (from catalogue<2.1.0,>=2.0.6->spacy<3.4.0,>=3.3.0.dev0->en-core-web-lg==3.3.0) (3.8.0)\n",
            "Requirement already satisfied: pyparsing!=3.0.5,>=2.0.2 in /usr/local/lib/python3.7/dist-packages (from packaging>=20.0->spacy<3.4.0,>=3.3.0.dev0->en-core-web-lg==3.3.0) (3.0.9)\n",
            "Requirement already satisfied: smart-open<6.0.0,>=5.0.0 in /usr/local/lib/python3.7/dist-packages (from pathy>=0.3.5->spacy<3.4.0,>=3.3.0.dev0->en-core-web-lg==3.3.0) (5.2.1)\n",
            "Requirement already satisfied: urllib3!=1.25.0,!=1.25.1,<1.26,>=1.21.1 in /usr/local/lib/python3.7/dist-packages (from requests<3.0.0,>=2.13.0->spacy<3.4.0,>=3.3.0.dev0->en-core-web-lg==3.3.0) (1.24.3)\n",
            "Requirement already satisfied: idna<3,>=2.5 in /usr/local/lib/python3.7/dist-packages (from requests<3.0.0,>=2.13.0->spacy<3.4.0,>=3.3.0.dev0->en-core-web-lg==3.3.0) (2.10)\n",
            "Requirement already satisfied: certifi>=2017.4.17 in /usr/local/lib/python3.7/dist-packages (from requests<3.0.0,>=2.13.0->spacy<3.4.0,>=3.3.0.dev0->en-core-web-lg==3.3.0) (2022.5.18.1)\n",
            "Requirement already satisfied: chardet<4,>=3.0.2 in /usr/local/lib/python3.7/dist-packages (from requests<3.0.0,>=2.13.0->spacy<3.4.0,>=3.3.0.dev0->en-core-web-lg==3.3.0) (3.0.4)\n",
            "Requirement already satisfied: click<9.0.0,>=7.1.1 in /usr/local/lib/python3.7/dist-packages (from typer<0.5.0,>=0.3.0->spacy<3.4.0,>=3.3.0.dev0->en-core-web-lg==3.3.0) (7.1.2)\n",
            "Requirement already satisfied: MarkupSafe>=0.23 in /usr/local/lib/python3.7/dist-packages (from jinja2->spacy<3.4.0,>=3.3.0.dev0->en-core-web-lg==3.3.0) (2.0.1)\n",
            "Installing collected packages: en-core-web-lg\n",
            "Successfully installed en-core-web-lg-3.3.0\n",
            "\u001b[38;5;2m✔ Download and installation successful\u001b[0m\n",
            "You can now load the package via spacy.load('en_core_web_lg')\n"
          ]
        }
      ],
      "source": [
        "!python -m spacy download \"en_core_web_lg\" #vectors for accuracy"
      ]
    },
    {
      "cell_type": "code",
      "execution_count": null,
      "metadata": {
        "colab": {
          "base_uri": "https://localhost:8080/"
        },
        "id": "amqdBYDTQfSp",
        "outputId": "ed3e0f69-109b-40dc-852e-bc158d959b12"
      },
      "outputs": [
        {
          "name": "stdout",
          "output_type": "stream",
          "text": [
            "\u001b[38;5;4mℹ Saving to output directory: .\u001b[0m\n",
            "\u001b[38;5;4mℹ Using CPU\u001b[0m\n",
            "\u001b[1m\n",
            "=========================== Initializing pipeline ===========================\u001b[0m\n",
            "[2022-05-31 18:33:49,750] [INFO] Set up nlp object from config\n",
            "[2022-05-31 18:33:49,766] [INFO] Pipeline: ['tok2vec', 'ner']\n",
            "[2022-05-31 18:33:49,771] [INFO] Created vocabulary\n",
            "[2022-05-31 18:33:52,395] [INFO] Added vectors: en_core_web_lg\n",
            "[2022-05-31 18:33:54,288] [INFO] Finished initializing nlp object\n",
            "[2022-05-31 18:34:10,065] [INFO] Initialized pipeline components: ['tok2vec', 'ner']\n",
            "\u001b[38;5;2m✔ Initialized pipeline\u001b[0m\n",
            "\u001b[1m\n",
            "============================= Training pipeline =============================\u001b[0m\n",
            "\u001b[38;5;4mℹ Pipeline: ['tok2vec', 'ner']\u001b[0m\n",
            "\u001b[38;5;4mℹ Initial learn rate: 0.001\u001b[0m\n",
            "E    #       LOSS TOK2VEC  LOSS NER  ENTS_F  ENTS_P  ENTS_R  SCORE \n",
            "---  ------  ------------  --------  ------  ------  ------  ------\n",
            "  0       0          0.00    259.81    0.00    0.00    0.00    0.00\n",
            "  4     200       2282.94  14773.88   39.94   39.70   40.18    0.40\n",
            "  8     400       1239.73   7448.36   68.32   65.07   71.90    0.68\n",
            " 12     600        719.63   3738.56   84.96   90.03   80.44    0.85\n",
            " 16     800       1965.99   2564.25   91.91   90.79   93.05    0.92\n",
            " 20    1000        785.40   1684.18   95.01   95.85   94.18    0.95\n",
            " 24    1200        377.87   1222.17   95.99   96.99   95.02    0.96\n",
            " 28    1400        679.75   1185.27   96.46   96.24   96.68    0.96\n",
            " 32    1600        255.01    845.63   97.30   96.79   97.81    0.97\n",
            " 36    1800        270.96    718.13   97.81   97.74   97.89    0.98\n",
            " 40    2000        433.02    696.06   98.41   98.78   98.04    0.98\n",
            " 44    2200        328.22    597.83   97.69   98.02   97.36    0.98\n",
            " 48    2400        348.47    555.88   97.14   96.92   97.36    0.97\n",
            " 53    2600        327.01    516.72   96.43   94.88   98.04    0.96\n",
            " 57    2800        308.61    428.88   98.68   98.86   98.49    0.99\n",
            " 61    3000        363.73    378.53   98.37   98.86   97.89    0.98\n",
            " 65    3200        440.19    454.06   97.93   97.81   98.04    0.98\n",
            " 69    3400        502.15    366.44   98.31   98.05   98.56    0.98\n",
            " 73    3600        459.32    331.22   98.87   99.02   98.72    0.99\n",
            " 77    3800        759.87    354.38   99.21   98.95   99.47    0.99\n",
            " 81    4000        785.46    397.95   99.01   99.47   98.56    0.99\n",
            " 85    4200        364.35    266.97   98.68   98.57   98.79    0.99\n",
            " 89    4400        660.53    363.12   98.33   99.00   97.66    0.98\n",
            " 93    4600        516.87    328.33   99.02   99.02   99.02    0.99\n",
            " 97    4800        823.08    321.62   98.71   99.39   98.04    0.99\n",
            "102    5000       1199.68    423.28   98.82   99.24   98.41    0.99\n",
            "106    5200        553.55    254.43   98.79   98.87   98.72    0.99\n",
            "110    5400       2773.49    257.67   98.95   98.21   99.70    0.99\n",
            "\u001b[38;5;2m✔ Saved pipeline to output directory\u001b[0m\n",
            "model-last\n"
          ]
        }
      ],
      "source": [
        "! python -m spacy train config.cfg --output ./ --paths.train ./training_data.spacy --paths.dev ./training_data.spacy #training model"
      ]
    },
    {
      "cell_type": "code",
      "execution_count": null,
      "metadata": {
        "id": "yf1-yl0URDVc"
      },
      "outputs": [],
      "source": [
        "nlp_ner = spacy.load(\"/content/model-best\")"
      ]
    },
    {
      "cell_type": "code",
      "execution_count": null,
      "metadata": {
        "id": "7zRW5fpjRTIn"
      },
      "outputs": [],
      "source": [
        "doc = nlp_ner(\"FIROZ KHAN firozkhan089@gmail.com +91-9758565672 Career Objective: If you want to leave your footprints on the sands of time do not drag your feet- Dr. APJ Abdul Kalam Apropos, I will leave no stone unturned in making full utilization of my knowledge and talent to the utmost satisfaction of the organization I will work for and to myself Academic Qualifications: Degree University/Board Year Percentage Bachelor of Technology [MECHANICAL ENGINEERING] Uttar Pradesh Technical University 2014 64.6% Intermediate CBSE BOARD 2009 65.8% High School ICSE BOARD 2007 75% Area of Interest: Production Technology Automobile engineering Skill Qualifications : Basic ‘C’ language . Working on windows xp , windows 8. SUMMER TRAINING : One Month summer training at 510 ARMY BASE WORKSHOP at Meerut Cantt. Workshop Attended: Workshop on Advances in HVAC Industry . Personal Details: Father’s Name Mr. Rahat Ali Mother’s Name Mrs. Chaman Bano Languages Known English, Hindi Home Town Meerut Religion Muslim Marital Status Unmarried Height 173cms Date Of Birth 12th August 1991 Corresponding Address 12/128,sec-12 Shastri Nagar ,Meerut Email ID firozkhan089@gmail.com Contact number +91-9758565672 DATE : PLACE : Meerut Firoz Khan\")"
      ]
    },
    {
      "cell_type": "code",
      "execution_count": null,
      "metadata": {
        "colab": {
          "base_uri": "https://localhost:8080/",
          "height": 262
        },
        "id": "F5nirbVJR8Y_",
        "outputId": "40865759-fe6d-4efb-f30f-7456614f96eb"
      },
      "outputs": [
        {
          "data": {
            "text/html": [
              "<span class=\"tex2jax_ignore\"><div class=\"entities\" style=\"line-height: 2.5; direction: ltr\">\n",
              "<mark class=\"entity\" style=\"background: #ddd; padding: 0.45em 0.6em; margin: 0 0.25em; line-height: 1; border-radius: 0.35em;\">\n",
              "    FIROZ KHAN\n",
              "    <span style=\"font-size: 0.8em; font-weight: bold; line-height: 1; border-radius: 0.35em; vertical-align: middle; margin-left: 0.5rem\">NAME</span>\n",
              "</mark>\n",
              " \n",
              "<mark class=\"entity\" style=\"background: #ddd; padding: 0.45em 0.6em; margin: 0 0.25em; line-height: 1; border-radius: 0.35em;\">\n",
              "    firozkhan089@gmail.com\n",
              "    <span style=\"font-size: 0.8em; font-weight: bold; line-height: 1; border-radius: 0.35em; vertical-align: middle; margin-left: 0.5rem\">EMAIL ADDRESS</span>\n",
              "</mark>\n",
              " \n",
              "<mark class=\"entity\" style=\"background: #ddd; padding: 0.45em 0.6em; margin: 0 0.25em; line-height: 1; border-radius: 0.35em;\">\n",
              "    +91-9758565672\n",
              "    <span style=\"font-size: 0.8em; font-weight: bold; line-height: 1; border-radius: 0.35em; vertical-align: middle; margin-left: 0.5rem\">CONTACT NUMBER</span>\n",
              "</mark>\n",
              " Career Objective: If you want to leave your footprints on the sands of time do not drag your feet- Dr. APJ Abdul Kalam Apropos, I will leave no stone unturned in making full utilization of my knowledge and talent to the utmost satisfaction of the organization I will work for and to myself Academic Qualifications: \n",
              "<mark class=\"entity\" style=\"background: #ddd; padding: 0.45em 0.6em; margin: 0 0.25em; line-height: 1; border-radius: 0.35em;\">\n",
              "    Degree University/Board\n",
              "    <span style=\"font-size: 0.8em; font-weight: bold; line-height: 1; border-radius: 0.35em; vertical-align: middle; margin-left: 0.5rem\">DEGREE</span>\n",
              "</mark>\n",
              " Year Percentage \n",
              "<mark class=\"entity\" style=\"background: #ddd; padding: 0.45em 0.6em; margin: 0 0.25em; line-height: 1; border-radius: 0.35em;\">\n",
              "    Bachelor of Technology\n",
              "    <span style=\"font-size: 0.8em; font-weight: bold; line-height: 1; border-radius: 0.35em; vertical-align: middle; margin-left: 0.5rem\">DEGREE</span>\n",
              "</mark>\n",
              " [MECHANICAL ENGINEERING] Uttar Pradesh Technical University 2014 64.6% Intermediate CBSE BOARD 2009 65.8% High School ICSE BOARD 2007 75% Area of Interest: Production Technology Automobile engineering Skill Qualifications : Basic ‘\n",
              "<mark class=\"entity\" style=\"background: #ddd; padding: 0.45em 0.6em; margin: 0 0.25em; line-height: 1; border-radius: 0.35em;\">\n",
              "    C’ language .\n",
              "    <span style=\"font-size: 0.8em; font-weight: bold; line-height: 1; border-radius: 0.35em; vertical-align: middle; margin-left: 0.5rem\">SKILLS</span>\n",
              "</mark>\n",
              " Working on windows xp , windows 8. SUMMER TRAINING : One Month summer training at 510 ARMY BASE WORKSHOP at Meerut Cantt. Workshop Attended: Workshop on Advances in HVAC Industry . Personal Details: Father’s Name Mr. Rahat Ali Mother’s Name Mrs. Chaman Bano Languages Known English, Hindi Home Town Meerut Religion Muslim Marital Status Unmarried Height 173cms Date Of Birth 12th August 1991 Corresponding Address 12/128,sec-12 Shastri Nagar ,Meerut Email ID \n",
              "<mark class=\"entity\" style=\"background: #ddd; padding: 0.45em 0.6em; margin: 0 0.25em; line-height: 1; border-radius: 0.35em;\">\n",
              "    firozkhan089@gmail.com\n",
              "    <span style=\"font-size: 0.8em; font-weight: bold; line-height: 1; border-radius: 0.35em; vertical-align: middle; margin-left: 0.5rem\">EMAIL ADDRESS</span>\n",
              "</mark>\n",
              " Contact number \n",
              "<mark class=\"entity\" style=\"background: #ddd; padding: 0.45em 0.6em; margin: 0 0.25em; line-height: 1; border-radius: 0.35em;\">\n",
              "    +91-9758565672\n",
              "    <span style=\"font-size: 0.8em; font-weight: bold; line-height: 1; border-radius: 0.35em; vertical-align: middle; margin-left: 0.5rem\">CONTACT NUMBER</span>\n",
              "</mark>\n",
              " DATE : PLACE : Meerut Firoz Khan</div></span>"
            ],
            "text/plain": [
              "<IPython.core.display.HTML object>"
            ]
          },
          "metadata": {},
          "output_type": "display_data"
        }
      ],
      "source": [
        "spacy.displacy.render(doc, style=\"ent\", jupyter=True)"
      ]
    },
    {
      "cell_type": "code",
      "execution_count": 36,
      "metadata": {
        "id": "FwiFqkEf3Dyu"
      },
      "outputs": [],
      "source": [
        "import json\n",
        "f = open('/content/testt.json')\n",
        "TEST_DATA = json.load(f)"
      ]
    },
    {
      "cell_type": "code",
      "execution_count": 37,
      "metadata": {
        "colab": {
          "base_uri": "https://localhost:8080/"
        },
        "id": "iBtu6XvcAa6r",
        "outputId": "010480ab-20cd-4bc5-b370-061e225971da"
      },
      "outputs": [
        {
          "name": "stderr",
          "output_type": "stream",
          "text": [
            "100%|██████████| 1/1 [00:00<00:00, 81.88it/s]\n"
          ]
        }
      ],
      "source": [
        "for text, annot in tqdm(TEST_DATA['annotations']): \n",
        "    doc = nlp.make_doc(text) \n",
        "    ents = []\n",
        "    for start, end, label in annot[\"entities\"]:\n",
        "        span = doc.char_span(start, end, label=label, alignment_mode=\"contract\")\n",
        "        if span is None:\n",
        "            print(\"Skipping entity\")\n",
        "        else:\n",
        "            ents.append(span)\n",
        "    doc.ents = ents \n",
        "    db.add(doc)\n",
        "\n",
        "db.to_disk(\"./test_data.spacy\") # save the docbin object"
      ]
    },
    {
      "cell_type": "code",
      "execution_count": 42,
      "metadata": {
        "colab": {
          "base_uri": "https://localhost:8080/"
        },
        "id": "KyyvlLgK3eWa",
        "outputId": "e27af3ee-c5be-4dcd-c16b-9d055f55f9bd"
      },
      "outputs": [
        {
          "name": "stdout",
          "output_type": "stream",
          "text": [
            "\u001b[38;5;4mℹ Using CPU\u001b[0m\n",
            "\u001b[1m\n",
            "================================== Results ==================================\u001b[0m\n",
            "\n",
            "TOK     100.00\n",
            "NER P   98.66 \n",
            "NER R   98.29 \n",
            "NER F   98.47 \n",
            "SPEED   2806  \n",
            "\n",
            "\u001b[1m\n",
            "=============================== NER (per type) ===============================\u001b[0m\n",
            "\n",
            "                           P        R        F\n",
            "OBJECTIVE             100.00   100.00   100.00\n",
            "NAME                  100.00   100.00   100.00\n",
            "DESIGNATION            98.00    99.32    98.66\n",
            "CONTACT NUMBER        100.00    97.87    98.92\n",
            "EMAIL ADDRESS         100.00   100.00   100.00\n",
            "SKILLS                 98.81    98.42    98.62\n",
            "DEGREE                 95.06    98.72    96.86\n",
            "INSTITUTE              98.81    95.40    97.08\n",
            "COMPANIES WORKED AT    99.05    98.11    98.58\n",
            "LOCATION              100.00    88.24    93.75\n",
            "\n"
          ]
        }
      ],
      "source": [
        "!python -m spacy evaluate ./model-best/ ./test_data.spacy #evaluating the model"
      ]
    },
    {
      "cell_type": "code",
      "execution_count": 47,
      "metadata": {
        "id": "JU71oFNDC7Pm"
      },
      "outputs": [],
      "source": [
        "#Cheking resume match with job description\n",
        "from gensim.summarization.summarizer import summarize\n",
        "from gensim.summarization import keywords# Import the library"
      ]
    },
    {
      "cell_type": "code",
      "execution_count": 43,
      "metadata": {
        "id": "6ovnzw7pDD0r"
      },
      "outputs": [],
      "source": [
        "resume_data = []\n",
        "job_desc = []\n",
        "with open('/content/drive/MyDrive/t_data.txt','r') as f:\n",
        "  for line in f:\n",
        "    resume_data.append(line)\n",
        "f.close()\n",
        "with open('/content/drive/MyDrive/job_data.txt','r') as f1:\n",
        "  for line in f1:\n",
        "    job_desc.append(line)\n",
        "f.close()"
      ]
    },
    {
      "cell_type": "code",
      "execution_count": 51,
      "metadata": {
        "colab": {
          "base_uri": "https://localhost:8080/"
        },
        "id": "tF5uJREODN3_",
        "outputId": "61844ac2-9300-4d65-86ff-706fecac6b2d"
      },
      "outputs": [
        {
          "name": "stdout",
          "output_type": "stream",
          "text": [
            "Your resume matches about 47.93% of the job description. Actual Labelled Match:  3\n",
            "Your resume matches about 38.64% of the job description. Actual Labelled Match:  2\n",
            "Your resume matches about 55.47% of the job description. Actual Labelled Match:  3\n",
            "Your resume matches about 42.53% of the job description. Actual Labelled Match:  4\n",
            "Your resume matches about 53.32% of the job description. Actual Labelled Match:  4\n",
            "Your resume matches about 42.75% of the job description. Actual Labelled Match:  3\n",
            "Your resume matches about 53.48% of the job description. Actual Labelled Match:  3\n",
            "Your resume matches about 43.72% of the job description. Actual Labelled Match:  2\n"
          ]
        }
      ],
      "source": [
        "actual_result = [3,2,3,4,4,3,3,2]\n",
        "for i in range(0,8):\n",
        "  k=resume_data[i]\n",
        "  j= job_desc[i]\n",
        "  try:\n",
        "    summarize(k, ratio=0.1)\n",
        "    text_list = [k, j]\n",
        "    from sklearn.feature_extraction.text import CountVectorizer\n",
        "    cv = CountVectorizer()\n",
        "    count_matrix = cv.fit_transform(text_list)\n",
        "    from sklearn.metrics.pairwise import cosine_similarity\n",
        "    # get the match percentage\n",
        "    matchPercentage = cosine_similarity(count_matrix)[0][1] * 100\n",
        "    matchPercentage = round(matchPercentage, 2) # round to two decimal\n",
        "    print('Your resume matches about '+ str(matchPercentage)+ '% of the job description.' ' Actual Labelled Match: ',actual_result[i])\n",
        "  except:\n",
        "    print(\"Can't\")"
      ]
    }
  ],
  "metadata": {
    "colab": {
      "collapsed_sections": [],
      "name": "Untitled4.ipynb",
      "provenance": []
    },
    "kernelspec": {
      "display_name": "Python 3.9.12 64-bit (system)",
      "language": "python",
      "name": "python3"
    },
    "language_info": {
      "name": "python",
      "version": "3.9.12"
    },
    "vscode": {
      "interpreter": {
        "hash": "e1f0b30a1289c18ae68c79e161087e0dd52454154e8c0410a2b8b9c7c579d43c"
      }
    }
  },
  "nbformat": 4,
  "nbformat_minor": 0
}
