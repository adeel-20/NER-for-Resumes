{
 "cells": [
  {
   "cell_type": "code",
   "execution_count": 2,
   "id": "97ca3c53",
   "metadata": {},
   "outputs": [
    {
     "name": "stdout",
     "output_type": "stream",
     "text": [
      "Collecting textblob\n",
      "  Using cached textblob-0.17.1-py2.py3-none-any.whl (636 kB)\n",
      "Requirement already satisfied: nltk>=3.1 in c:\\users\\adeel\\anaconda3\\lib\\site-packages (from textblob) (3.7)\n",
      "Requirement already satisfied: click in c:\\users\\adeel\\anaconda3\\lib\\site-packages (from nltk>=3.1->textblob) (8.0.4)\n",
      "Requirement already satisfied: joblib in c:\\users\\adeel\\anaconda3\\lib\\site-packages (from nltk>=3.1->textblob) (1.1.0)\n",
      "Requirement already satisfied: regex>=2021.8.3 in c:\\users\\adeel\\anaconda3\\lib\\site-packages (from nltk>=3.1->textblob) (2022.3.15)\n",
      "Requirement already satisfied: tqdm in c:\\users\\adeel\\anaconda3\\lib\\site-packages (from nltk>=3.1->textblob) (4.64.0)\n",
      "Requirement already satisfied: colorama in c:\\users\\adeel\\anaconda3\\lib\\site-packages (from click->nltk>=3.1->textblob) (0.4.4)\n",
      "Installing collected packages: textblob\n",
      "Successfully installed textblob-0.17.1\n"
     ]
    }
   ],
   "source": [
    "import pandas as pd\n",
    "import unicodedata\n",
    "import re\n",
    "!pip install textblob\n",
    "from textblob import TextBlob"
   ]
  },
  {
   "cell_type": "code",
   "execution_count": 3,
   "id": "2ca8af73",
   "metadata": {},
   "outputs": [],
   "source": [
    "Data = pd.read_excel('train_test_20200716.xlsx')"
   ]
  },
  {
   "cell_type": "code",
   "execution_count": 5,
   "id": "0b1cd140",
   "metadata": {},
   "outputs": [],
   "source": [
    "All_Resume = list(Data['job_description'])"
   ]
  },
  {
   "cell_type": "code",
   "execution_count": 6,
   "id": "efd7a195",
   "metadata": {},
   "outputs": [],
   "source": [
    "def normal_Data(resume):\n",
    "    normal_data = str(unicodedata.normalize('NFKD', resume).encode('ascii', 'ignore'))\n",
    "    Data_Without_Spaces = re.sub('\\\\s+', ' ', normal_data.replace(\"_x000D_\", ' ').replace('\\\\n', \" \").replace('b\"','')).strip(' ')\n",
    "    return Data_Without_Spaces"
   ]
  },
  {
   "cell_type": "code",
   "execution_count": 7,
   "id": "b4b46f11",
   "metadata": {},
   "outputs": [],
   "source": [
    "for idx in range(len(All_Resume)):\n",
    "    All_Resume[idx] = normal_Data(All_Resume[idx])"
   ]
  },
  {
   "cell_type": "code",
   "execution_count": 8,
   "id": "52859cf5",
   "metadata": {},
   "outputs": [],
   "source": [
    "Data.drop(['job_description'], axis = 1, inplace = True)\n",
    "Data['job_description'] = All_Resume"
   ]
  },
  {
   "cell_type": "code",
   "execution_count": 9,
   "id": "484f1d96",
   "metadata": {},
   "outputs": [],
   "source": [
    "Data.to_excel('Normal_Data_2.xlsx')"
   ]
  }
 ],
 "metadata": {
  "kernelspec": {
   "display_name": "Python 3.9.12 ('base')",
   "language": "python",
   "name": "python3"
  },
  "language_info": {
   "codemirror_mode": {
    "name": "ipython",
    "version": 3
   },
   "file_extension": ".py",
   "mimetype": "text/x-python",
   "name": "python",
   "nbconvert_exporter": "python",
   "pygments_lexer": "ipython3",
   "version": "3.9.12"
  },
  "vscode": {
   "interpreter": {
    "hash": "e1f0b30a1289c18ae68c79e161087e0dd52454154e8c0410a2b8b9c7c579d43c"
   }
  }
 },
 "nbformat": 4,
 "nbformat_minor": 5
}
